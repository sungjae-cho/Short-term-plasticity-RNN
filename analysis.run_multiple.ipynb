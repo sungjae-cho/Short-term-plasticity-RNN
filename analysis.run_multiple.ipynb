{
 "cells": [
  {
   "cell_type": "code",
   "execution_count": 1,
   "id": "2147ed97-1a87-48ee-8804-349dd435cd7d",
   "metadata": {},
   "outputs": [
    {
     "name": "stdout",
     "output_type": "stream",
     "text": [
      "--> Loading parameters...\n",
      "--> Parameters successfully loaded.\n",
      "\n"
     ]
    }
   ],
   "source": [
    "from analysis import *"
   ]
  },
  {
   "cell_type": "markdown",
   "id": "c74c2f4f-35fb-407a-aa24-5d5def71bc26",
   "metadata": {},
   "source": [
    "The structure of `analysis.py`:\n",
    "```\n",
    "analysis.py : Run trained networks and analyze their results.\n",
    " ├ def run_multiple : Run multiple trained networks.\n",
    " ├ def analyze_model_from_file : Run a trained network and analyze its results.\n",
    " ├ def run_model : Run a trained network.\n",
    " └ (rest of functions) : Helpers for running a network and analyzing its results.\n",
    "```"
   ]
  },
  {
   "cell_type": "code",
   "execution_count": null,
   "id": "5609795b-400b-4169-820c-f1f0c20ab7ac",
   "metadata": {},
   "outputs": [],
   "source": [
    "run_multiple()"
   ]
  }
 ],
 "metadata": {
  "kernelspec": {
   "display_name": "Python 3 (ipykernel)",
   "language": "python",
   "name": "python3"
  },
  "language_info": {
   "codemirror_mode": {
    "name": "ipython",
    "version": 3
   },
   "file_extension": ".py",
   "mimetype": "text/x-python",
   "name": "python",
   "nbconvert_exporter": "python",
   "pygments_lexer": "ipython3",
   "version": "3.9.6"
  }
 },
 "nbformat": 4,
 "nbformat_minor": 5
}
