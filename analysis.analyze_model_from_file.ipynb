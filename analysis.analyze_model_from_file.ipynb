{
 "cells": [
  {
   "cell_type": "code",
   "execution_count": 1,
   "id": "2147ed97-1a87-48ee-8804-349dd435cd7d",
   "metadata": {},
   "outputs": [
    {
     "name": "stdout",
     "output_type": "stream",
     "text": [
      "--> Loading parameters...\n",
      "--> Parameters successfully loaded.\n",
      "\n"
     ]
    }
   ],
   "source": [
    "from analysis import *"
   ]
  },
  {
   "cell_type": "markdown",
   "id": "c74c2f4f-35fb-407a-aa24-5d5def71bc26",
   "metadata": {},
   "source": [
    "The structure of `analysis.py`:\n",
    "```\n",
    "analysis.py : Run trained networks and analyze their results.\n",
    " ├ def run_multiple : Run multiple trained networks.\n",
    " ├ def analyze_model_from_file : Run a trained network and analyze its results.\n",
    " ├ def run_model : Run a trained network.\n",
    " └ (rest of functions) : Helpers for running a network and analyzing its results.\n",
    "```"
   ]
  },
  {
   "cell_type": "code",
   "execution_count": 2,
   "id": "2c638681-dfa8-4f26-82b1-3301cd1318c0",
   "metadata": {},
   "outputs": [
    {
     "name": "stdout",
     "output_type": "stream",
     "text": [
      "Updating parameters...\n",
      "Updating parameters...\n",
      "Updating parameters...\n",
      "Updating parameters...\n",
      "Updating parameters...\n",
      "Task accuracy 0.9939236\n",
      "calculate response matrix...\n",
      "decoding activity...\n",
      "Neuronal and synaptic delay period decoding 0.3103 1.0\n",
      "calculate tuning...\n",
      "simulating network...\n",
      "Analysis results saved in  savedir/model_results_analysis.pkl\n"
     ]
    }
   ],
   "source": [
    "model_path = 'savedir/model_results.pkl'\n",
    "analysis_result_path = 'savedir/model_results_analysis.pkl'\n",
    "update_params = {\n",
    "        'decode_stability':         False,\n",
    "        'decoding_reps':            100,\n",
    "        'simulation_reps':          100,\n",
    "        'analyze_tuning':           True,\n",
    "        'calculate_resp_matrix':    True,\n",
    "        'suppress_analysis':        False,\n",
    "        'decode_test':              False,\n",
    "        'decode_rule':              False,\n",
    "        'decode_match':             False,\n",
    "        'svm_normalize':            True}\n",
    "analyze_model_from_file(model_path, analysis_result_path, update_params)"
   ]
  },
  {
   "cell_type": "code",
   "execution_count": 10,
   "id": "7e50106c-3194-4dd5-821f-f8a4237adff9",
   "metadata": {},
   "outputs": [],
   "source": [
    "import pickle\n",
    "with open(analysis_result_path, 'rb') as f:\n",
    "    anal_results = pickle.load(f)"
   ]
  },
  {
   "cell_type": "code",
   "execution_count": 16,
   "id": "97203a2b-d69a-4800-a102-a67f782270ea",
   "metadata": {},
   "outputs": [
    {
     "name": "stdout",
     "output_type": "stream",
     "text": [
      "['weights',\n",
      " 'parameters',\n",
      " 'accuracy',\n",
      " 'loss',\n",
      " 'perf_loss',\n",
      " 'spike_loss',\n",
      " 'weight_loss',\n",
      " 'iteration',\n",
      " 'task_accuracy',\n",
      " 'task_accuracy_per_rule',\n",
      " 'resp_no_suppresion',\n",
      " 'resp_suppresion',\n",
      " 'neuronal_sample_decoding',\n",
      " 'synaptic_sample_decoding',\n",
      " 'neuronal_sample_decoding_dms',\n",
      " 'synaptic_sample_decoding_dms',\n",
      " 'neuronal_pref_dir',\n",
      " 'synaptic_pref_dir',\n",
      " 'neuronal_pev',\n",
      " 'synaptic_pev',\n",
      " 'neuronal_sample_tuning',\n",
      " 'synaptic_sample_tuning',\n",
      " 'neuronal_pref_dir_dms',\n",
      " 'synaptic_pref_dir_dms',\n",
      " 'neuronal_pev_dms',\n",
      " 'synaptic_pev_dms',\n",
      " 'neuronal_sample_tuning_dms',\n",
      " 'synaptic_sample_tuning_dms',\n",
      " 'h_sample_mean',\n",
      " 'simulation_accuracy',\n",
      " 'accuracy_neural_shuffled',\n",
      " 'accuracy_syn_shuffled',\n",
      " 'accuracy_neural_shuffled_grp',\n",
      " 'accuracy_syn_shuffled_grp']\n"
     ]
    }
   ],
   "source": [
    "from pprint import pprint\n",
    "pprint(list(anal_results.keys()))"
   ]
  }
 ],
 "metadata": {
  "kernelspec": {
   "display_name": "Python 3 (ipykernel)",
   "language": "python",
   "name": "python3"
  },
  "language_info": {
   "codemirror_mode": {
    "name": "ipython",
    "version": 3
   },
   "file_extension": ".py",
   "mimetype": "text/x-python",
   "name": "python",
   "nbconvert_exporter": "python",
   "pygments_lexer": "ipython3",
   "version": "3.9.6"
  }
 },
 "nbformat": 4,
 "nbformat_minor": 5
}
